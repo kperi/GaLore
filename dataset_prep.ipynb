{
 "cells": [
  {
   "cell_type": "code",
   "execution_count": null,
   "metadata": {},
   "outputs": [],
   "source": [
    "!pip install sentencepiece "
   ]
  },
  {
   "cell_type": "code",
   "execution_count": 2,
   "metadata": {},
   "outputs": [],
   "source": [
    "from transformers import AutoTokenizer \n",
    "import datasets \n",
    "from loguru import logger\n",
    "import tqdm\n",
    "import torch"
   ]
  },
  {
   "cell_type": "code",
   "execution_count": 3,
   "metadata": {},
   "outputs": [
    {
     "name": "stderr",
     "output_type": "stream",
     "text": [
      "You set `add_prefix_space`. The tokenizer needs to be converted from the slow tokenizers\n"
     ]
    },
    {
     "data": {
      "text/plain": [
       "([0, 4], [0, 5], [0, 6], [0, 7])"
      ]
     },
     "execution_count": 3,
     "metadata": {},
     "output_type": "execute_result"
    }
   ],
   "source": [
    "\n",
    "tokenizer = AutoTokenizer.from_pretrained(\"Konstantinos/el_llama_3bn\")\n",
    "\n",
    "tokenizer.encode(\"[INST]\"), tokenizer.encode(\"[/INST]\"), tokenizer.encode(\"<<SYS>>\"), tokenizer.encode(\"<</SYS>>\") \n",
    "\n"
   ]
  },
  {
   "cell_type": "code",
   "execution_count": 4,
   "metadata": {},
   "outputs": [
    {
     "data": {
      "text/plain": [
       "([0, 2846, 5418, 21794, 4], '[INST]')"
      ]
     },
     "execution_count": 4,
     "metadata": {},
     "output_type": "execute_result"
    }
   ],
   "source": [
    "tokenizer.encode(\"hey  [INST]\", add_special_tokens=True), tokenizer.decode(4)"
   ]
  },
  {
   "cell_type": "code",
   "execution_count": 5,
   "metadata": {},
   "outputs": [
    {
     "data": {
      "application/vnd.jupyter.widget-view+json": {
       "model_id": "b81edd69c5064a10ad7d2e3ec70e5e1b",
       "version_major": 2,
       "version_minor": 0
      },
      "text/plain": [
       "Resolving data files:   0%|          | 0/1024 [00:00<?, ?it/s]"
      ]
     },
     "metadata": {},
     "output_type": "display_data"
    },
    {
     "data": {
      "application/vnd.jupyter.widget-view+json": {
       "model_id": "918356fcc8f14d24b327109ce314f31d",
       "version_major": 2,
       "version_minor": 0
      },
      "text/plain": [
       "Resolving data files:   0%|          | 0/1024 [00:00<?, ?it/s]"
      ]
     },
     "metadata": {},
     "output_type": "display_data"
    }
   ],
   "source": [
    "data = datasets.load_dataset(\"allenai/c4\", \"el\", split=\"train\", streaming=True)"
   ]
  },
  {
   "cell_type": "code",
   "execution_count": 6,
   "metadata": {},
   "outputs": [
    {
     "name": "stderr",
     "output_type": "stream",
     "text": [
      "\u001b[32m2024-04-07 10:32:45.776\u001b[0m | \u001b[1mINFO    \u001b[0m | \u001b[36m__main__\u001b[0m:\u001b[36m<module>\u001b[0m:\u001b[36m3\u001b[0m - \u001b[1mShuffling data with seed 42\u001b[0m\n"
     ]
    }
   ],
   "source": [
    "seed_for_shuffle = 42 \n",
    "    \n",
    "logger.info(f\"Shuffling data with seed {seed_for_shuffle}\")\n",
    "data: datasets.Dataset = data.shuffle(seed=seed_for_shuffle)\n"
   ]
  },
  {
   "cell_type": "code",
   "execution_count": null,
   "metadata": {},
   "outputs": [],
   "source": []
  },
  {
   "cell_type": "code",
   "execution_count": 7,
   "metadata": {},
   "outputs": [
    {
     "data": {
      "text/plain": [
       "50000000"
      ]
     },
     "execution_count": 7,
     "metadata": {},
     "output_type": "execute_result"
    }
   ],
   "source": [
    "500_000_00"
   ]
  },
  {
   "cell_type": "code",
   "execution_count": 8,
   "metadata": {},
   "outputs": [
    {
     "name": "stderr",
     "output_type": "stream",
     "text": [
      "Docs: 930000, tokens seen 989659684: : 43710000it [41:50, 17408.90it/s]\n"
     ]
    }
   ],
   "source": [
    "all_tokens = []\n",
    "\n",
    "tokens_so_far = 0 \n",
    "docs = 0 \n",
    "with tqdm.tqdm() as pbar: \n",
    "    for idx, example in enumerate(data):\n",
    "        text = example['text']\n",
    "        tokens = tokenizer.encode(text + '</s>')\n",
    "        \n",
    "        tokens_so_far += len(tokens)\n",
    "        all_tokens.extend(tokens)\n",
    "        if idx % 10000 == 0 and idx!=0: \n",
    "            pbar.set_description( f\"Docs: {idx}, tokens seen {tokens_so_far}\")\n",
    "            docs+=10000\n",
    "            pbar.update(docs)\n",
    "\n",
    "        #if tokens_so_far>100_000_000:\n",
    "        #    break \n",
    "        if tokens_so_far > 1_000_000_000:\n",
    "            break"
   ]
  },
  {
   "cell_type": "code",
   "execution_count": 18,
   "metadata": {},
   "outputs": [
    {
     "data": {
      "text/plain": [
       "'<s> ΗΜΕΡΟΛΟΓΙΟ ΚΑTΑΣTΡΩΜΑTΟΣ: ΓΙΟΡΤΗ και ΓΕΝΕΘΛΙΑ\\nTα δύο τραγούδια και το video με τον Σαρλώ είναι αφιερωμένα με αγάπη στα κορίτσια του σκακιστικού τμήματος Μυρτώ και Κατερίνα, για τη γιορτή της πρώτης και τα γενέθλια της δεύτερης σήμερα 24 του Σεπτέμβρη, ευχόμενός τους'"
      ]
     },
     "execution_count": 18,
     "metadata": {},
     "output_type": "execute_result"
    }
   ],
   "source": [
    "tokenizer.decode(all_tokens[0:100])"
   ]
  },
  {
   "cell_type": "code",
   "execution_count": 9,
   "metadata": {},
   "outputs": [
    {
     "data": {
      "text/plain": [
       "900000154"
      ]
     },
     "execution_count": 9,
     "metadata": {},
     "output_type": "execute_result"
    }
   ],
   "source": [
    "to =  int(0.9*len(all_tokens))\n",
    "to"
   ]
  },
  {
   "cell_type": "code",
   "execution_count": 10,
   "metadata": {},
   "outputs": [],
   "source": [
    "torch.save(all_tokens[0:to], \"./data/training.pt\")\n"
   ]
  },
  {
   "cell_type": "code",
   "execution_count": 11,
   "metadata": {},
   "outputs": [],
   "source": [
    "torch.save(all_tokens[to:], \"./data/validation.pt\")"
   ]
  },
  {
   "cell_type": "code",
   "execution_count": null,
   "metadata": {},
   "outputs": [],
   "source": [
    "torch.save( all_tokens[0:100000], \"./data/small.pt\")"
   ]
  },
  {
   "cell_type": "code",
   "execution_count": null,
   "metadata": {},
   "outputs": [],
   "source": [
    "len(all_tokens[to:])"
   ]
  },
  {
   "cell_type": "code",
   "execution_count": null,
   "metadata": {},
   "outputs": [],
   "source": [
    "37_499_661"
   ]
  },
  {
   "cell_type": "code",
   "execution_count": null,
   "metadata": {},
   "outputs": [],
   "source": [
    "!ls -lah ./dataa"
   ]
  },
  {
   "cell_type": "code",
   "execution_count": 13,
   "metadata": {},
   "outputs": [],
   "source": [
    "\n",
    "torch.save(all_tokens[0:100000], \"./data/training_small.pt\")\n",
    "torch.save(all_tokens[100_000:11000], \"./data/validation_small.pt\")\n",
    "\n"
   ]
  },
  {
   "cell_type": "code",
   "execution_count": null,
   "metadata": {},
   "outputs": [],
   "source": []
  }
 ],
 "metadata": {
  "kernelspec": {
   "display_name": "base",
   "language": "python",
   "name": "python3"
  },
  "language_info": {
   "codemirror_mode": {
    "name": "ipython",
    "version": 3
   },
   "file_extension": ".py",
   "mimetype": "text/x-python",
   "name": "python",
   "nbconvert_exporter": "python",
   "pygments_lexer": "ipython3",
   "version": "3.10.13"
  }
 },
 "nbformat": 4,
 "nbformat_minor": 2
}
